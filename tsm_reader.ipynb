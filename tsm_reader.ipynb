{
 "cells": [
  {
   "cell_type": "code",
   "execution_count": 1,
   "id": "b615fbc5",
   "metadata": {},
   "outputs": [
    {
     "name": "stdout",
     "output_type": "stream",
     "text": [
      "Using matplotlib backend: Qt5Agg\n"
     ]
    }
   ],
   "source": [
    "import numpy as np\n",
    "import matplotlib.pyplot as plt\n",
    "%matplotlib"
   ]
  },
  {
   "cell_type": "code",
   "execution_count": 2,
   "id": "4eeb5b2b",
   "metadata": {},
   "outputs": [],
   "source": [
    "filename = \"Untitled008.tsm\"\n",
    "width = 1024\n",
    "height = 320\n",
    "num_frames = 200\n",
    "\n",
    "file = open(filename, 'rb')\n",
    "header = file.read(2880)\n",
    "\n",
    "data = np.zeros((num_frames, height, width), dtype=np.int16)\n",
    "\n",
    "for i in range(num_frames):\n",
    "    for j in range(height):\n",
    "        for k in range(width):\n",
    "            data[i, j, k] = int.from_bytes(file.read(2), byteorder='little')\n",
    "\n",
    "dark_frame = np.zeros((height, width), dtype=np.int16)\n",
    "\n",
    "for i in range(height):\n",
    "    for j in range(width):\n",
    "        dark_frame[i, j] = int.from_bytes(file.read(2), byteorder='little')\n",
    "file.close()"
   ]
  },
  {
   "cell_type": "code",
   "execution_count": 3,
   "id": "8688319e",
   "metadata": {},
   "outputs": [
    {
     "name": "stdout",
     "output_type": "stream",
     "text": [
      "(200, 320, 1024) 333.7440400695801\n"
     ]
    },
    {
     "data": {
      "text/plain": [
       "<matplotlib.image.AxesImage at 0x1fd5312f430>"
      ]
     },
     "execution_count": 3,
     "metadata": {},
     "output_type": "execute_result"
    }
   ],
   "source": [
    "print(data.shape, np.average(data))\n",
    "plt.imshow(data[0,:,:])\n",
    "# plt.imshow(dark_frame)\n",
    "\n"
   ]
  },
  {
   "cell_type": "code",
   "execution_count": null,
   "id": "96b0d059",
   "metadata": {},
   "outputs": [],
   "source": []
  }
 ],
 "metadata": {
  "kernelspec": {
   "display_name": "Python 3 (ipykernel)",
   "language": "python",
   "name": "python3"
  },
  "language_info": {
   "codemirror_mode": {
    "name": "ipython",
    "version": 3
   },
   "file_extension": ".py",
   "mimetype": "text/x-python",
   "name": "python",
   "nbconvert_exporter": "python",
   "pygments_lexer": "ipython3",
   "version": "3.8.10"
  }
 },
 "nbformat": 4,
 "nbformat_minor": 5
}
